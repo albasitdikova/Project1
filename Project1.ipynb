{
 "cells": [
  {
   "cell_type": "code",
   "execution_count": null,
   "metadata": {},
   "outputs": [],
   "source": [
    "import pandas as pd\n",
    "import numpy as np"
   ]
  },
  {
   "cell_type": "markdown",
   "metadata": {},
   "source": [
    "Read the data into six separate dataframes."
   ]
  },
  {
   "cell_type": "code",
   "execution_count": null,
   "metadata": {},
   "outputs": [],
   "source": [
    "df1 = pd.read_csv(\"turnstile_200606.csv\")\n",
    "df2 = pd.read_csv(\"turnstile_200530.csv\")\n",
    "df3 = pd.read_csv(\"turnstile_200411.csv\")\n",
    "df4 = pd.read_csv(\"turnstile_200321.csv\")\n",
    "df5 = pd.read_csv(\"turnstile_200208.csv\")\n",
    "df6 = pd.read_csv(\"turnstile_200118.csv\")"
   ]
  },
  {
   "cell_type": "markdown",
   "metadata": {},
   "source": [
    "Concatenate the data into one dataframe."
   ]
  },
  {
   "cell_type": "code",
   "execution_count": null,
   "metadata": {},
   "outputs": [],
   "source": [
    "df = pd.concat([df1, df2, df3, df4, df5, df6])"
   ]
  },
  {
   "cell_type": "code",
   "execution_count": null,
   "metadata": {},
   "outputs": [],
   "source": [
    "df.head()\n",
    "df.rename(columns={\"EXITS                                                               \" : \"EXITS\"}, inplace=True)"
   ]
  },
  {
   "cell_type": "markdown",
   "metadata": {},
   "source": [
    "The DATE and TIME columns are object datatypes, which in Pandas is a string."
   ]
  },
  {
   "cell_type": "code",
   "execution_count": null,
   "metadata": {},
   "outputs": [],
   "source": [
    "print('DATE datatype: {}, TIME datatype: \"{}\"'.format(df['DATE'].dtypes, df['TIME'].dtypes))"
   ]
  },
  {
   "cell_type": "code",
   "execution_count": null,
   "metadata": {},
   "outputs": [],
   "source": [
    "df['DATETIME'] = pd.to_datetime(df['DATE'] + ' ' + df['TIME'])"
   ]
  },
  {
   "cell_type": "markdown",
   "metadata": {},
   "source": [
    "After conversion, the datatype for the DATETIME column is a datetime."
   ]
  },
  {
   "cell_type": "code",
   "execution_count": null,
   "metadata": {},
   "outputs": [],
   "source": [
    "df['DATETIME'].dtypes"
   ]
  },
  {
   "cell_type": "code",
   "execution_count": null,
   "metadata": {},
   "outputs": [],
   "source": [
    "df.head()"
   ]
  },
  {
   "cell_type": "markdown",
   "metadata": {},
   "source": [
    "The total entries for each turnstile are observed using the `groupby` function in Pandas. First, two additional columns related to the day of the week and the month are added to further analyze the data."
   ]
  },
  {
   "cell_type": "code",
   "execution_count": null,
   "metadata": {},
   "outputs": [],
   "source": [
    "df['DAY'] = df['DATETIME'].dt.day\n",
    "df['MONTH'] = df['DATETIME'].dt.month_name()\n",
    "df"
   ]
  },
  {
   "cell_type": "markdown",
   "metadata": {},
   "source": [
    "Next, because the data for the column ENTRIES is cumulative, daily turnstile entries are calculated by subtracting minimum entries from maximum entries for each day."
   ]
  },
  {
   "cell_type": "code",
   "execution_count": null,
   "metadata": {},
   "outputs": [],
   "source": [
    "s = df.groupby(['C/A', 'UNIT', 'SCP', 'STATION', 'DAY', 'MONTH'])['ENTRIES'].max() - df.groupby(['C/A', 'UNIT', 'SCP', 'STATION', 'DAY', 'MONTH'])['ENTRIES'].min()\n",
    "df1 = s.to_frame()\n",
    "df1.rename(columns={'ENTRIES' : 'daily_entries'}, inplace = True)\n",
    "df1"
   ]
  },
  {
   "cell_type": "code",
   "execution_count": null,
   "metadata": {},
   "outputs": [],
   "source": []
  }
 ],
 "metadata": {
  "kernelspec": {
   "display_name": "Python 3",
   "language": "python",
   "name": "python3"
  },
  "language_info": {
   "codemirror_mode": {
    "name": "ipython",
    "version": 3
   },
   "file_extension": ".py",
   "mimetype": "text/x-python",
   "name": "python",
   "nbconvert_exporter": "python",
   "pygments_lexer": "ipython3",
   "version": "3.8.5"
  }
 },
 "nbformat": 4,
 "nbformat_minor": 4
}
